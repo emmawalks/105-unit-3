{
 "cells": [
  {
   "cell_type": "markdown",
   "id": "e4d81b4f-fad5-476b-bb8c-ba4788b29c06",
   "metadata": {},
   "source": [
    "# **The Contributors to Poor Food Security Project**"
   ]
  },
  {
   "cell_type": "markdown",
   "id": "0398983a-e69f-4759-a051-9e22329d0357",
   "metadata": {},
   "source": [
    "The Contributors to Poor Food Security Project uses the pandas package for data analysis with python. It serves as a data filtering notebook that makes US food security data easier to access and use programmatically. "
   ]
  },
  {
   "cell_type": "markdown",
   "id": "3c340cfd-8743-4c04-b77e-45bb556f8f09",
   "metadata": {},
   "source": [
    "This notebook acts as a tutorial on how to take tabular data from a public county data set, and systematically analyzes the food environment index, limited access to healthy foods, and median household income in Florida counties."
   ]
  },
  {
   "cell_type": "markdown",
   "id": "748ef0ed-d192-458b-a9a5-7cc22d4cc078",
   "metadata": {},
   "source": [
    "## **Overview of Tutorial**"
   ]
  },
  {
   "cell_type": "markdown",
   "id": "77c201e9-ec27-497b-aba1-1695ce21b55a",
   "metadata": {},
   "source": [
    "**You will use this tutorial to cover the following processes:**"
   ]
  },
  {
   "cell_type": "markdown",
   "id": "fb66e03e-9857-4d8b-9db0-4156ffe19bbf",
   "metadata": {},
   "source": [
    "1. Importing the pandas package \n",
    "\n",
    "2. Creating a dataframe  \n",
    "\n",
    "3. Using functions to filter through the dataframe to analyze the contributors to poor food security among Florida counties \n",
    "\n",
    "4. Concatenating data\n",
    "\n",
    "5. Creating a subset and exporting as a new .cvs file "
   ]
  },
  {
   "cell_type": "markdown",
   "id": "9c51e4f1-6b3a-40ae-8cd6-e58559c563a1",
   "metadata": {},
   "source": [
    "# **Importing Pandas** "
   ]
  },
  {
   "cell_type": "markdown",
   "id": "278c161f-5ed9-4160-9cfc-3cd3296aa2e6",
   "metadata": {},
   "source": [
    "**Packages** "
   ]
  },
  {
   "cell_type": "markdown",
   "id": "394b7923-1d0a-4015-b804-c7555ae46a58",
   "metadata": {},
   "source": [
    "Packages give you additional tools and functions that are not provided in base Python. Pythons includes multiple packages to begin with. The Anaconda distribution comes with the “Pandas” package already installed.  "
   ]
  },
  {
   "cell_type": "markdown",
   "id": "69d03c57-4e96-4098-b50e-0a2a6e68bff7",
   "metadata": {},
   "source": [
    "Once you have installed a package, you can load it into your current Python session with the import function. If not loaded, these new functions will not be available.  "
   ]
  },
  {
   "cell_type": "markdown",
   "id": "194217b0-a31d-44ac-adf8-b57dfcc86975",
   "metadata": {},
   "source": [
    "**Pandas** "
   ]
  },
  {
   "cell_type": "markdown",
   "id": "56ec748b-8794-49ae-8097-0869a38fa79a",
   "metadata": {},
   "source": [
    "Like spreadsheets in Microsoft Excel, Pandas allows us to store our data in tabular, multi-dimensional objects (dataframes) with familiar features like rows, columns, and headers. This is useful because it makes management, manipulation, and cleaning of large datasets much easier than would be the case using Python's built-in data structures such as lists. Pandas also provides a wide range of useful tools for working with data once it has been stored and structured. "
   ]
  },
  {
   "cell_type": "markdown",
   "id": "d2da5363-a9f2-4d62-b7e9-aeb967f8ea6b",
   "metadata": {},
   "source": [
    "To begin, import the pandas package using the following command: "
   ]
  },
  {
   "cell_type": "code",
   "execution_count": 6,
   "id": "31fb01c6-a911-41d2-8ce2-972a9bc144fe",
   "metadata": {},
   "outputs": [],
   "source": [
    "import numpy as np\n",
    "import pandas as pd"
   ]
  },
  {
   "cell_type": "markdown",
   "id": "085801a9-0324-4661-9be0-ee166507058d",
   "metadata": {},
   "source": [
    "Notice that we load pandas with the usual import pandas and an extra as pd statement. This allows us to call functions from pandas with pd.<function> instead of pandas.<function> for convenience. as pd is not necessary to load the package. \n",
    "\n",
    "**Note:** we also imported the numpy package, which is going to help pandas do some of its math."
   ]
  },
  {
   "cell_type": "markdown",
   "id": "c83f48a0-b126-4aa8-be4b-d50dc60eb6e3",
   "metadata": {},
   "source": [
    "# **Creating a DataFrame** "
   ]
  },
  {
   "cell_type": "markdown",
   "id": "7a407c8c-a73f-46eb-becb-f1489abb5a16",
   "metadata": {},
   "source": [
    "## **Working Directories & Relative Paths**  "
   ]
  },
  {
   "cell_type": "markdown",
   "id": "5355039c-c3f9-4659-8d0c-e59dc44c487a",
   "metadata": {},
   "source": [
    "The next step is to download the csv file “CountyHealthData_2014-2015.csv” and save your copy in the same folder as this Jupyter Notebook.  "
   ]
  },
  {
   "cell_type": "markdown",
   "id": "2e083b03-472c-4a23-b928-12a30dbef5ec",
   "metadata": {},
   "source": [
    "**Note:** Your csv file must be saved in the same working directory as your .ipynb notebook file that you will use.  "
   ]
  },
  {
   "cell_type": "markdown",
   "id": "650a58d6-b42e-4ad6-b7b0-b4df5c917453",
   "metadata": {},
   "source": [
    "**Remember:** Jupyter Notebooks automatically set your working directory to the folder where the .ipynb is saved. You'll have to save the document at least once to set your directory, but once there you can use what's called relative file paths to access the files there.) \n",
    "\n",
    "If a file is located in your working directory, its relative path is just the name of the file!  "
   ]
  },
  {
   "cell_type": "markdown",
   "id": "601774f9-5a5a-4d55-82a8-34887d353305",
   "metadata": {},
   "source": [
    "**Using the pd.read_csv( ) function** "
   ]
  },
  {
   "cell_type": "markdown",
   "id": "b10cecde-d1c5-4850-a51d-c8e764c085c8",
   "metadata": {},
   "source": [
    "pd.read_csv reads the tabular data from a Comma Separated Values (csv) file into a dataframe object that we'll define as df. \n",
    "\n",
    "To create our dataframe object we'll define our object df by executing the pd.read_csv()function on our data file by inserting the relative file path into the parathenses.  "
   ]
  },
  {
   "cell_type": "code",
   "execution_count": 10,
   "id": "8982078e-7a80-4c29-8866-69bb619dc596",
   "metadata": {},
   "outputs": [],
   "source": [
    "df=pd.read_csv(\"CountyHealthData_2014-2015 (3).csv\")"
   ]
  },
  {
   "cell_type": "markdown",
   "id": "0a70dc19-bd8e-4124-9476-3103f0c69d3c",
   "metadata": {},
   "source": [
    "**Note:** You will need to create your dataframe object each time you open python. To do this, press Enter and Ctrl to refresh your dataframe.\n",
    "\n",
    "**Note:** You must write the exact title of your file in quotations in order for it to be read."
   ]
  },
  {
   "cell_type": "markdown",
   "id": "880bd076-ff5a-4cf9-a3be-0490c9627a3e",
   "metadata": {},
   "source": [
    "# **Filtering the Data**  "
   ]
  },
  {
   "cell_type": "markdown",
   "id": "629a1adb-170c-4000-87fc-6b18d1e32b66",
   "metadata": {},
   "source": [
    "**Indexing**  "
   ]
  },
  {
   "cell_type": "markdown",
   "id": "b137b422-0060-4521-b3f5-606d134c68e3",
   "metadata": {},
   "source": [
    "You will first want to manipulate the data to analyze the food environment indexes in Florida.\n",
    "\n",
    "You will do this by selecting certain rows or columns from the larger dataframe. "
   ]
  },
  {
   "cell_type": "markdown",
   "id": "cf6d0f80-9f6c-412b-8208-a78753e1752a",
   "metadata": {},
   "source": [
    "**Selecting the Rows** "
   ]
  },
  {
   "cell_type": "markdown",
   "id": "0b4ccdbf-174c-4e54-8670-b707006aad21",
   "metadata": {},
   "source": [
    "To analyze data from only Florida, you need to select the row numbers that correspond with the state \"FL.\" These are rows 618 through 749. \n",
    "\n",
    "**Note:** When you select a range of rows, your return will give you data from the minimum row number through one lower than your maximum row number. \n",
    "\n",
    "For example, if you code your range as [618:749], your data will visibly return rows 618-748. \n",
    "\n",
    "You must make your maximum range number one row higher than you want in your table. \n",
    "\n",
    "Coding your range as [618:750] will visibly display rows 618-749. "
   ]
  },
  {
   "cell_type": "markdown",
   "id": "efd6c39b-f4e8-43dd-933a-878d18a9a273",
   "metadata": {},
   "source": [
    "As shown above, these rows will be represented as numbers in square brackets. The first row in the dataset corresponding to \"FL\" is number 618. The last row in the dataset corresponding to \"FL\" is number 749. \n",
    "\n",
    "Nest these numbers inside square brackets with a colon in between."
   ]
  },
  {
   "cell_type": "markdown",
   "id": "2a48e537-1ea3-47c3-a28d-d7d080d96299",
   "metadata": {},
   "source": [
    "**Selecting the Columns** "
   ]
  },
  {
   "cell_type": "markdown",
   "id": "c5492af0-e5f1-4dda-bd1d-d46adc1516f5",
   "metadata": {},
   "source": [
    "In order to display the columns \"State\" and \"Food environemnt index,\" you need to select the columns that are labeled as so. "
   ]
  },
  {
   "cell_type": "markdown",
   "id": "66d9592d-ae5a-44c1-a6e4-dcf566f80fa4",
   "metadata": {},
   "source": [
    "Start by adding the \"State\" column.\n",
    "\n",
    "Nest \"State\" in its own set of square brackets and quotations before the brackets with your selected rows. "
   ]
  },
  {
   "cell_type": "markdown",
   "id": "4647ae04-1325-4eaa-9814-303a2a445e6a",
   "metadata": {},
   "source": [
    "**It should look like this:** "
   ]
  },
  {
   "cell_type": "code",
   "execution_count": 18,
   "id": "15ccee1c-5dcf-48e3-8675-1e33e304cd49",
   "metadata": {},
   "outputs": [
    {
     "data": {
      "text/plain": [
       "618    FL\n",
       "619    FL\n",
       "620    FL\n",
       "621    FL\n",
       "622    FL\n",
       "       ..\n",
       "745    FL\n",
       "746    FL\n",
       "747    FL\n",
       "748    FL\n",
       "749    FL\n",
       "Name: State, Length: 132, dtype: object"
      ]
     },
     "execution_count": 18,
     "metadata": {},
     "output_type": "execute_result"
    }
   ],
   "source": [
    "df[\"State\"][618:750] "
   ]
  },
  {
   "cell_type": "markdown",
   "id": "183038df-7850-473c-af5b-ed11c054167b",
   "metadata": {},
   "source": [
    "Now that you have represented all of Florida's row in your table, you need to add the column \"Food environment index.\"\n",
    "\n",
    "Nest \"Food environment index\" in its own set of square brackets and quotations after \"State,\" with a comma separating the two sets of quotations. Add another set of brackets around the previous column brackets.\n",
    "\n",
    "**Note:** Your column name must have the same exact title as the column in your .csv in order for your table to be generated. This includes spaces and upper-case/lower-case letters. "
   ]
  },
  {
   "cell_type": "markdown",
   "id": "9f9c8fb9-2ffb-40ef-901a-0397c287de08",
   "metadata": {},
   "source": [
    "**It should look like this:**"
   ]
  },
  {
   "cell_type": "code",
   "execution_count": 19,
   "id": "197dd9b9-3739-42db-be45-3f5eaaa9dbbc",
   "metadata": {},
   "outputs": [
    {
     "data": {
      "text/html": [
       "<div>\n",
       "<style scoped>\n",
       "    .dataframe tbody tr th:only-of-type {\n",
       "        vertical-align: middle;\n",
       "    }\n",
       "\n",
       "    .dataframe tbody tr th {\n",
       "        vertical-align: top;\n",
       "    }\n",
       "\n",
       "    .dataframe thead th {\n",
       "        text-align: right;\n",
       "    }\n",
       "</style>\n",
       "<table border=\"1\" class=\"dataframe\">\n",
       "  <thead>\n",
       "    <tr style=\"text-align: right;\">\n",
       "      <th></th>\n",
       "      <th>State</th>\n",
       "      <th>Food environment index</th>\n",
       "    </tr>\n",
       "  </thead>\n",
       "  <tbody>\n",
       "    <tr>\n",
       "      <th>618</th>\n",
       "      <td>FL</td>\n",
       "      <td>6.614</td>\n",
       "    </tr>\n",
       "    <tr>\n",
       "      <th>619</th>\n",
       "      <td>FL</td>\n",
       "      <td>6.400</td>\n",
       "    </tr>\n",
       "    <tr>\n",
       "      <th>620</th>\n",
       "      <td>FL</td>\n",
       "      <td>6.983</td>\n",
       "    </tr>\n",
       "    <tr>\n",
       "      <th>621</th>\n",
       "      <td>FL</td>\n",
       "      <td>6.600</td>\n",
       "    </tr>\n",
       "    <tr>\n",
       "      <th>622</th>\n",
       "      <td>FL</td>\n",
       "      <td>7.624</td>\n",
       "    </tr>\n",
       "    <tr>\n",
       "      <th>...</th>\n",
       "      <td>...</td>\n",
       "      <td>...</td>\n",
       "    </tr>\n",
       "    <tr>\n",
       "      <th>745</th>\n",
       "      <td>FL</td>\n",
       "      <td>8.000</td>\n",
       "    </tr>\n",
       "    <tr>\n",
       "      <th>746</th>\n",
       "      <td>FL</td>\n",
       "      <td>7.770</td>\n",
       "    </tr>\n",
       "    <tr>\n",
       "      <th>747</th>\n",
       "      <td>FL</td>\n",
       "      <td>7.300</td>\n",
       "    </tr>\n",
       "    <tr>\n",
       "      <th>748</th>\n",
       "      <td>FL</td>\n",
       "      <td>5.651</td>\n",
       "    </tr>\n",
       "    <tr>\n",
       "      <th>749</th>\n",
       "      <td>FL</td>\n",
       "      <td>5.300</td>\n",
       "    </tr>\n",
       "  </tbody>\n",
       "</table>\n",
       "<p>132 rows × 2 columns</p>\n",
       "</div>"
      ],
      "text/plain": [
       "    State  Food environment index\n",
       "618    FL                   6.614\n",
       "619    FL                   6.400\n",
       "620    FL                   6.983\n",
       "621    FL                   6.600\n",
       "622    FL                   7.624\n",
       "..    ...                     ...\n",
       "745    FL                   8.000\n",
       "746    FL                   7.770\n",
       "747    FL                   7.300\n",
       "748    FL                   5.651\n",
       "749    FL                   5.300\n",
       "\n",
       "[132 rows x 2 columns]"
      ]
     },
     "execution_count": 19,
     "metadata": {},
     "output_type": "execute_result"
    }
   ],
   "source": [
    "df[[\"State\", \"Food environment index\"]][618:750]"
   ]
  },
  {
   "cell_type": "markdown",
   "id": "f75e8073-2ce3-4a12-8c91-b21048e9ba47",
   "metadata": {},
   "source": [
    "After filtering through the data you are able to see the food environment indexes for 132 rows labeled \"FL\" \n",
    "\n",
    "Why are there so many different rows labeled \"FL\"?\n",
    "\n",
    "Each row represents a different county. However, you cannot see that in your table yet. "
   ]
  },
  {
   "cell_type": "markdown",
   "id": "f1ec6ef8-39fa-414f-8ac2-2f046461a4bc",
   "metadata": {},
   "source": [
    "# **Adding another column to describe your data**"
   ]
  },
  {
   "cell_type": "markdown",
   "id": "3fff1394-098f-4c1b-9a0c-695df8568967",
   "metadata": {},
   "source": [
    "After filtering through the data you are able to see the food environment indexes for 132 rows labeled \"FL\" \n",
    "\n",
    "Why are there so many different rows labeled \"FL\"?\n",
    "\n",
    "Each row represents a different county. However, you cannot see that in your table yet. "
   ]
  },
  {
   "cell_type": "markdown",
   "id": "9cf77fe8-3854-4599-8d26-0dcffd1b318b",
   "metadata": {},
   "source": [
    "To add a column to label the different counties in Florida, you will add another set of quotations to your column bracket. The column name should be \"County.\"\n",
    "\n",
    "For reading purposes, nest the label \"County\" inbetween labels \"State\" and \"Food environment index.\"\n",
    "\n",
    "Don't forget to add another comma to separate each column name. "
   ]
  },
  {
   "cell_type": "markdown",
   "id": "f401d7fe-d8a3-4f54-bff9-e8712fcfb68b",
   "metadata": {},
   "source": [
    "**It should now look something like this:**"
   ]
  },
  {
   "cell_type": "code",
   "execution_count": 22,
   "id": "6b2d0974-c9d4-4754-9f5f-35424636e582",
   "metadata": {},
   "outputs": [
    {
     "data": {
      "text/html": [
       "<div>\n",
       "<style scoped>\n",
       "    .dataframe tbody tr th:only-of-type {\n",
       "        vertical-align: middle;\n",
       "    }\n",
       "\n",
       "    .dataframe tbody tr th {\n",
       "        vertical-align: top;\n",
       "    }\n",
       "\n",
       "    .dataframe thead th {\n",
       "        text-align: right;\n",
       "    }\n",
       "</style>\n",
       "<table border=\"1\" class=\"dataframe\">\n",
       "  <thead>\n",
       "    <tr style=\"text-align: right;\">\n",
       "      <th></th>\n",
       "      <th>State</th>\n",
       "      <th>County</th>\n",
       "      <th>Food environment index</th>\n",
       "    </tr>\n",
       "  </thead>\n",
       "  <tbody>\n",
       "    <tr>\n",
       "      <th>618</th>\n",
       "      <td>FL</td>\n",
       "      <td>Baker County</td>\n",
       "      <td>6.614</td>\n",
       "    </tr>\n",
       "    <tr>\n",
       "      <th>619</th>\n",
       "      <td>FL</td>\n",
       "      <td>Baker County</td>\n",
       "      <td>6.400</td>\n",
       "    </tr>\n",
       "    <tr>\n",
       "      <th>620</th>\n",
       "      <td>FL</td>\n",
       "      <td>Bay County</td>\n",
       "      <td>6.983</td>\n",
       "    </tr>\n",
       "    <tr>\n",
       "      <th>621</th>\n",
       "      <td>FL</td>\n",
       "      <td>Bay County</td>\n",
       "      <td>6.600</td>\n",
       "    </tr>\n",
       "    <tr>\n",
       "      <th>622</th>\n",
       "      <td>FL</td>\n",
       "      <td>Bradford County</td>\n",
       "      <td>7.624</td>\n",
       "    </tr>\n",
       "    <tr>\n",
       "      <th>...</th>\n",
       "      <td>...</td>\n",
       "      <td>...</td>\n",
       "      <td>...</td>\n",
       "    </tr>\n",
       "    <tr>\n",
       "      <th>745</th>\n",
       "      <td>FL</td>\n",
       "      <td>Wakulla County</td>\n",
       "      <td>8.000</td>\n",
       "    </tr>\n",
       "    <tr>\n",
       "      <th>746</th>\n",
       "      <td>FL</td>\n",
       "      <td>Walton County</td>\n",
       "      <td>7.770</td>\n",
       "    </tr>\n",
       "    <tr>\n",
       "      <th>747</th>\n",
       "      <td>FL</td>\n",
       "      <td>Walton County</td>\n",
       "      <td>7.300</td>\n",
       "    </tr>\n",
       "    <tr>\n",
       "      <th>748</th>\n",
       "      <td>FL</td>\n",
       "      <td>Washington County</td>\n",
       "      <td>5.651</td>\n",
       "    </tr>\n",
       "    <tr>\n",
       "      <th>749</th>\n",
       "      <td>FL</td>\n",
       "      <td>Washington County</td>\n",
       "      <td>5.300</td>\n",
       "    </tr>\n",
       "  </tbody>\n",
       "</table>\n",
       "<p>132 rows × 3 columns</p>\n",
       "</div>"
      ],
      "text/plain": [
       "    State             County  Food environment index\n",
       "618    FL       Baker County                   6.614\n",
       "619    FL       Baker County                   6.400\n",
       "620    FL         Bay County                   6.983\n",
       "621    FL         Bay County                   6.600\n",
       "622    FL    Bradford County                   7.624\n",
       "..    ...                ...                     ...\n",
       "745    FL     Wakulla County                   8.000\n",
       "746    FL      Walton County                   7.770\n",
       "747    FL      Walton County                   7.300\n",
       "748    FL  Washington County                   5.651\n",
       "749    FL  Washington County                   5.300\n",
       "\n",
       "[132 rows x 3 columns]"
      ]
     },
     "execution_count": 22,
     "metadata": {},
     "output_type": "execute_result"
    }
   ],
   "source": [
    "df[[\"State\", \"County\", \"Food environment index\"]][618:750]"
   ]
  },
  {
   "cell_type": "markdown",
   "id": "5a3a0e0d-03dc-4096-8fa3-fe4fe714435e",
   "metadata": {},
   "source": [
    " **After filtering through the data you are able to see the food environment indexes for 132 counties in Florida.**"
   ]
  },
  {
   "cell_type": "markdown",
   "id": "16101910-75c4-424a-951e-4f4f88c6c45b",
   "metadata": {},
   "source": [
    "# **Adding Columns to further analyze**"
   ]
  },
  {
   "cell_type": "markdown",
   "id": "95dd9d09-6e0b-4e3d-9155-e1278f913f82",
   "metadata": {},
   "source": [
    "The food environment index is a metric that measures the availability of healthy food within a relative distance. In order to ensure food security, people must have physical and economic access to sufficient amounts of nutrition."
   ]
  },
  {
   "cell_type": "markdown",
   "id": "fc07cb27-a303-432b-8aaf-dd577e09cc32",
   "metadata": {},
   "source": [
    "You can further analyze the causes of Florida’s varying food environment indexes by comparing that data to data pertaining to limited accessibility to healthy food and income."
   ]
  },
  {
   "cell_type": "markdown",
   "id": "04cacb17-3404-4687-8e99-ad7c3e94dbd1",
   "metadata": {},
   "source": [
    "**You can do this by adding two more columns to your DataFrame.**  "
   ]
  },
  {
   "cell_type": "markdown",
   "id": "fa4b2d3b-a272-429b-b651-730b5edb7945",
   "metadata": {},
   "source": [
    "Place a comma after “Food environment index” and write “Limited access to healthy foods”. \n",
    "\n",
    "Then, place another comma after “Limited access to healthy foods” and add “Median household income”. \n",
    "\n",
    "Don't forget to add commas between each column label. "
   ]
  },
  {
   "cell_type": "markdown",
   "id": "ce786060-dd0f-4163-8d7b-d3814b1ad4ef",
   "metadata": {},
   "source": [
    "**Your new DataFrame code should look like this:**"
   ]
  },
  {
   "cell_type": "code",
   "execution_count": 27,
   "id": "e2214def-878b-4598-a59d-673cad3c0ddf",
   "metadata": {},
   "outputs": [
    {
     "data": {
      "text/html": [
       "<div>\n",
       "<style scoped>\n",
       "    .dataframe tbody tr th:only-of-type {\n",
       "        vertical-align: middle;\n",
       "    }\n",
       "\n",
       "    .dataframe tbody tr th {\n",
       "        vertical-align: top;\n",
       "    }\n",
       "\n",
       "    .dataframe thead th {\n",
       "        text-align: right;\n",
       "    }\n",
       "</style>\n",
       "<table border=\"1\" class=\"dataframe\">\n",
       "  <thead>\n",
       "    <tr style=\"text-align: right;\">\n",
       "      <th></th>\n",
       "      <th>State</th>\n",
       "      <th>County</th>\n",
       "      <th>Food environment index</th>\n",
       "      <th>Limited access to healthy foods</th>\n",
       "      <th>Median household income</th>\n",
       "    </tr>\n",
       "  </thead>\n",
       "  <tbody>\n",
       "    <tr>\n",
       "      <th>618</th>\n",
       "      <td>FL</td>\n",
       "      <td>Baker County</td>\n",
       "      <td>6.614</td>\n",
       "      <td>0.128</td>\n",
       "      <td>45721</td>\n",
       "    </tr>\n",
       "    <tr>\n",
       "      <th>619</th>\n",
       "      <td>FL</td>\n",
       "      <td>Baker County</td>\n",
       "      <td>6.400</td>\n",
       "      <td>0.128</td>\n",
       "      <td>46505</td>\n",
       "    </tr>\n",
       "    <tr>\n",
       "      <th>620</th>\n",
       "      <td>FL</td>\n",
       "      <td>Bay County</td>\n",
       "      <td>6.983</td>\n",
       "      <td>0.096</td>\n",
       "      <td>45259</td>\n",
       "    </tr>\n",
       "    <tr>\n",
       "      <th>621</th>\n",
       "      <td>FL</td>\n",
       "      <td>Bay County</td>\n",
       "      <td>6.600</td>\n",
       "      <td>0.096</td>\n",
       "      <td>45249</td>\n",
       "    </tr>\n",
       "    <tr>\n",
       "      <th>622</th>\n",
       "      <td>FL</td>\n",
       "      <td>Bradford County</td>\n",
       "      <td>7.624</td>\n",
       "      <td>0.023</td>\n",
       "      <td>38680</td>\n",
       "    </tr>\n",
       "    <tr>\n",
       "      <th>...</th>\n",
       "      <td>...</td>\n",
       "      <td>...</td>\n",
       "      <td>...</td>\n",
       "      <td>...</td>\n",
       "      <td>...</td>\n",
       "    </tr>\n",
       "    <tr>\n",
       "      <th>745</th>\n",
       "      <td>FL</td>\n",
       "      <td>Wakulla County</td>\n",
       "      <td>8.000</td>\n",
       "      <td>0.003</td>\n",
       "      <td>47430</td>\n",
       "    </tr>\n",
       "    <tr>\n",
       "      <th>746</th>\n",
       "      <td>FL</td>\n",
       "      <td>Walton County</td>\n",
       "      <td>7.770</td>\n",
       "      <td>0.072</td>\n",
       "      <td>40239</td>\n",
       "    </tr>\n",
       "    <tr>\n",
       "      <th>747</th>\n",
       "      <td>FL</td>\n",
       "      <td>Walton County</td>\n",
       "      <td>7.300</td>\n",
       "      <td>0.072</td>\n",
       "      <td>45357</td>\n",
       "    </tr>\n",
       "    <tr>\n",
       "      <th>748</th>\n",
       "      <td>FL</td>\n",
       "      <td>Washington County</td>\n",
       "      <td>5.651</td>\n",
       "      <td>0.194</td>\n",
       "      <td>36560</td>\n",
       "    </tr>\n",
       "    <tr>\n",
       "      <th>749</th>\n",
       "      <td>FL</td>\n",
       "      <td>Washington County</td>\n",
       "      <td>5.300</td>\n",
       "      <td>0.194</td>\n",
       "      <td>35671</td>\n",
       "    </tr>\n",
       "  </tbody>\n",
       "</table>\n",
       "<p>132 rows × 5 columns</p>\n",
       "</div>"
      ],
      "text/plain": [
       "    State             County  Food environment index  \\\n",
       "618    FL       Baker County                   6.614   \n",
       "619    FL       Baker County                   6.400   \n",
       "620    FL         Bay County                   6.983   \n",
       "621    FL         Bay County                   6.600   \n",
       "622    FL    Bradford County                   7.624   \n",
       "..    ...                ...                     ...   \n",
       "745    FL     Wakulla County                   8.000   \n",
       "746    FL      Walton County                   7.770   \n",
       "747    FL      Walton County                   7.300   \n",
       "748    FL  Washington County                   5.651   \n",
       "749    FL  Washington County                   5.300   \n",
       "\n",
       "     Limited access to healthy foods  Median household income  \n",
       "618                            0.128                    45721  \n",
       "619                            0.128                    46505  \n",
       "620                            0.096                    45259  \n",
       "621                            0.096                    45249  \n",
       "622                            0.023                    38680  \n",
       "..                               ...                      ...  \n",
       "745                            0.003                    47430  \n",
       "746                            0.072                    40239  \n",
       "747                            0.072                    45357  \n",
       "748                            0.194                    36560  \n",
       "749                            0.194                    35671  \n",
       "\n",
       "[132 rows x 5 columns]"
      ]
     },
     "execution_count": 27,
     "metadata": {},
     "output_type": "execute_result"
    }
   ],
   "source": [
    "df[[\"State\", \"County\", \"Food environment index\", \"Limited access to healthy foods\", \"Median household income\"]][618:750]"
   ]
  },
  {
   "cell_type": "markdown",
   "id": "c31252f5-3911-44a2-a059-a4ea876f8f8e",
   "metadata": {},
   "source": [
    "**Now you have one big table that provides the name of each Florida county, its corresponding food environment index, access to healthy food, and median income.**    "
   ]
  },
  {
   "cell_type": "markdown",
   "id": "670edb52-8d5a-485d-b5cf-8d58481b1452",
   "metadata": {},
   "source": [
    "## **Condensing the Data** "
   ]
  },
  {
   "cell_type": "markdown",
   "id": "21bcafad-6f7c-4689-b304-2d8a9a245180",
   "metadata": {},
   "source": [
    "The filtered data set that you just created includes 132 rows of data. \n",
    "\n",
    "Food environment indexes are given on a scale of 0-10. \n",
    "\n",
    "0 corresponds to the worst scoring, and 10 corresponds to the best scoring.  \n",
    "\n",
    "To make this data set easier to analyze, let's condense it to counties in Florida that have a food environment index of 6 or lower."
   ]
  },
  {
   "cell_type": "markdown",
   "id": "d64fa39e-b778-43da-96ce-e96fa85aeda4",
   "metadata": {},
   "source": [
    "When you look at the \"Food Environment Index,\" for all the counties in Florida, you can find that there are 17 counties with a food environment index that is equal to or less than 6.  "
   ]
  },
  {
   "cell_type": "markdown",
   "id": "d8f6a4c6-c0fa-460a-994d-3954cf096f07",
   "metadata": {},
   "source": [
    "**The corresponding index numbers to these counties are: 629, 647, 652, 653, 663, 661, 662, 663, 664, 665, 687, 693, 708, 709, 723, 748, and 749.** "
   ]
  },
  {
   "cell_type": "markdown",
   "id": "18093a80-dbac-433a-ad0d-aee1bfc810af",
   "metadata": {},
   "source": [
    "When choosing what rows to include in your table, we learned that we must provide a starting row, and an ending row. This will output a table that starts at your starting point, and includes every number until the ending point.  \n",
    "\n",
    "However, since you are now using rows that are not in chronological order, we must make separate tables, and then combine them. \n"
   ]
  },
  {
   "cell_type": "markdown",
   "id": "2c9cee34-0814-4cb3-913f-46f139c27dd6",
   "metadata": {},
   "source": [
    "**You will end up creating 9 separate tables.**"
   ]
  },
  {
   "cell_type": "markdown",
   "id": "f4d630bc-8bb7-4bf6-9e91-adc0c69cbaf7",
   "metadata": {},
   "source": [
    "**Table 0**: Row 629\n",
    "\n",
    "**Table 1**: Row 647\n",
    "\n",
    "**Table 2**: Row 652 and 653\n",
    "\n",
    "**Table 3**: Row 660, 661, 662, 663, 664, 665\n",
    "\n",
    "**Table 4**: Row 687\n",
    "\n",
    "**Table 5**: Row 693\n",
    "\n",
    "**Table 6**: Row 708 and 709\n",
    "\n",
    "**Table 7**: Row 723\n",
    "\n",
    "**Table 8**: Row 748 and 749"
   ]
  },
  {
   "cell_type": "markdown",
   "id": "10c73b16-46b0-4581-834f-50f22b3d7437",
   "metadata": {},
   "source": [
    "You will start off by making your table consist of row 629.\n",
    "\n",
    "This means your range will be [629:630] since row 630 will not be visible on your table.\n"
   ]
  },
  {
   "cell_type": "markdown",
   "id": "a0c1f8c7-42f2-44c6-8178-c417e8eb75c0",
   "metadata": {},
   "source": [
    "**Your code for this condensed table should look like this:**\n"
   ]
  },
  {
   "cell_type": "code",
   "execution_count": 42,
   "id": "779ada3f-b596-465d-a530-faa7486c8e22",
   "metadata": {},
   "outputs": [
    {
     "data": {
      "text/html": [
       "<div>\n",
       "<style scoped>\n",
       "    .dataframe tbody tr th:only-of-type {\n",
       "        vertical-align: middle;\n",
       "    }\n",
       "\n",
       "    .dataframe tbody tr th {\n",
       "        vertical-align: top;\n",
       "    }\n",
       "\n",
       "    .dataframe thead th {\n",
       "        text-align: right;\n",
       "    }\n",
       "</style>\n",
       "<table border=\"1\" class=\"dataframe\">\n",
       "  <thead>\n",
       "    <tr style=\"text-align: right;\">\n",
       "      <th></th>\n",
       "      <th>State</th>\n",
       "      <th>County</th>\n",
       "      <th>Food environment index</th>\n",
       "      <th>Limited access to healthy foods</th>\n",
       "      <th>Median household income</th>\n",
       "    </tr>\n",
       "  </thead>\n",
       "  <tbody>\n",
       "    <tr>\n",
       "      <th>629</th>\n",
       "      <td>FL</td>\n",
       "      <td>Calhoun County</td>\n",
       "      <td>5.9</td>\n",
       "      <td>0.132</td>\n",
       "      <td>33977</td>\n",
       "    </tr>\n",
       "  </tbody>\n",
       "</table>\n",
       "</div>"
      ],
      "text/plain": [
       "    State          County  Food environment index  \\\n",
       "629    FL  Calhoun County                     5.9   \n",
       "\n",
       "     Limited access to healthy foods  Median household income  \n",
       "629                            0.132                    33977  "
      ]
     },
     "execution_count": 42,
     "metadata": {},
     "output_type": "execute_result"
    }
   ],
   "source": [
    "df[[\"State\", \"County\", \"Food environment index\", \"Limited access to healthy foods\", \"Median household income\"]][629:630]"
   ]
  },
  {
   "cell_type": "markdown",
   "id": "5ca8fe93-60a6-4075-8ea4-0cc7a7918012",
   "metadata": {},
   "source": [
    "You must identify each table you create.\n",
    "\n",
    "Identify this table as \"df0\"\n",
    "\n",
    "You will equal this identifier to your code. "
   ]
  },
  {
   "cell_type": "markdown",
   "id": "7e30b66c-9a28-4170-91bc-565da9108c64",
   "metadata": {},
   "source": [
    "**It should look like this:**"
   ]
  },
  {
   "cell_type": "code",
   "execution_count": 43,
   "id": "9408101a-02d3-4a74-b531-ccf748213ec6",
   "metadata": {},
   "outputs": [],
   "source": [
    "df0= df[[\"State\", \"County\", \"Food environment index\", \"Limited access to healthy foods\", \"Median household income\"]][629:630]\n"
   ]
  },
  {
   "cell_type": "markdown",
   "id": "c0adc662-44f4-48a5-8daf-ddce91a15070",
   "metadata": {},
   "source": [
    "Now we will make a table for row 647.\n",
    "\n",
    "This means your range will be [647:648] since row 648 will not be visible on your table."
   ]
  },
  {
   "cell_type": "markdown",
   "id": "60128259-a270-4626-b40d-1afb014a35ea",
   "metadata": {},
   "source": [
    "**Your code for this condensed table should look like this:**"
   ]
  },
  {
   "cell_type": "code",
   "execution_count": 45,
   "id": "ab58620b-d479-4f2c-b6ab-b776c8426a3f",
   "metadata": {},
   "outputs": [
    {
     "data": {
      "text/html": [
       "<div>\n",
       "<style scoped>\n",
       "    .dataframe tbody tr th:only-of-type {\n",
       "        vertical-align: middle;\n",
       "    }\n",
       "\n",
       "    .dataframe tbody tr th {\n",
       "        vertical-align: top;\n",
       "    }\n",
       "\n",
       "    .dataframe thead th {\n",
       "        text-align: right;\n",
       "    }\n",
       "</style>\n",
       "<table border=\"1\" class=\"dataframe\">\n",
       "  <thead>\n",
       "    <tr style=\"text-align: right;\">\n",
       "      <th></th>\n",
       "      <th>State</th>\n",
       "      <th>County</th>\n",
       "      <th>Food environment index</th>\n",
       "      <th>Limited access to healthy foods</th>\n",
       "      <th>Median household income</th>\n",
       "    </tr>\n",
       "  </thead>\n",
       "  <tbody>\n",
       "    <tr>\n",
       "      <th>647</th>\n",
       "      <td>FL</td>\n",
       "      <td>Escambia County</td>\n",
       "      <td>5.8</td>\n",
       "      <td>0.13</td>\n",
       "      <td>42742</td>\n",
       "    </tr>\n",
       "  </tbody>\n",
       "</table>\n",
       "</div>"
      ],
      "text/plain": [
       "    State           County  Food environment index  \\\n",
       "647    FL  Escambia County                     5.8   \n",
       "\n",
       "     Limited access to healthy foods  Median household income  \n",
       "647                             0.13                    42742  "
      ]
     },
     "execution_count": 45,
     "metadata": {},
     "output_type": "execute_result"
    }
   ],
   "source": [
    "df[[\"State\", \"County\", \"Food environment index\", \"Limited access to healthy foods\", \"Median household income\"]][647:648]"
   ]
  },
  {
   "cell_type": "markdown",
   "id": "7608bed8-8968-49b8-aea4-5b180018c67f",
   "metadata": {},
   "source": [
    "Identify this table as \"df1\""
   ]
  },
  {
   "cell_type": "markdown",
   "id": "7d46e550-58fc-4991-ae4d-5a977d1e2e5c",
   "metadata": {},
   "source": [
    "**It should look like this:**"
   ]
  },
  {
   "cell_type": "code",
   "execution_count": 47,
   "id": "27804026-9513-4cda-a379-f44d1eddfd6b",
   "metadata": {},
   "outputs": [],
   "source": [
    "df1=df[[\"State\", \"County\", \"Food environment index\", \"Limited access to healthy foods\", \"Median household income\"]][647:648]"
   ]
  },
  {
   "cell_type": "markdown",
   "id": "c4b49a66-e930-44a9-b519-4c9f587dfc9b",
   "metadata": {},
   "source": [
    "Now we will make a table for rows 652 and 653.\n",
    "\n",
    "This means your range will be [652:654] since row 654 will not be visible on your table."
   ]
  },
  {
   "cell_type": "markdown",
   "id": "62e787a4-8957-46ef-b89d-12e3c18c7faf",
   "metadata": {},
   "source": [
    "**Your code for this condensed table should look like this:**"
   ]
  },
  {
   "cell_type": "code",
   "execution_count": 50,
   "id": "6696dddb-c4b2-481f-b2a1-c5f0a5efd94c",
   "metadata": {},
   "outputs": [
    {
     "data": {
      "text/html": [
       "<div>\n",
       "<style scoped>\n",
       "    .dataframe tbody tr th:only-of-type {\n",
       "        vertical-align: middle;\n",
       "    }\n",
       "\n",
       "    .dataframe tbody tr th {\n",
       "        vertical-align: top;\n",
       "    }\n",
       "\n",
       "    .dataframe thead th {\n",
       "        text-align: right;\n",
       "    }\n",
       "</style>\n",
       "<table border=\"1\" class=\"dataframe\">\n",
       "  <thead>\n",
       "    <tr style=\"text-align: right;\">\n",
       "      <th></th>\n",
       "      <th>State</th>\n",
       "      <th>County</th>\n",
       "      <th>Food environment index</th>\n",
       "      <th>Limited access to healthy foods</th>\n",
       "      <th>Median household income</th>\n",
       "    </tr>\n",
       "  </thead>\n",
       "  <tbody>\n",
       "    <tr>\n",
       "      <th>652</th>\n",
       "      <td>FL</td>\n",
       "      <td>Gadsden County</td>\n",
       "      <td>5.706</td>\n",
       "      <td>0.058</td>\n",
       "      <td>35854</td>\n",
       "    </tr>\n",
       "    <tr>\n",
       "      <th>653</th>\n",
       "      <td>FL</td>\n",
       "      <td>Gadsden County</td>\n",
       "      <td>5.500</td>\n",
       "      <td>0.058</td>\n",
       "      <td>34348</td>\n",
       "    </tr>\n",
       "  </tbody>\n",
       "</table>\n",
       "</div>"
      ],
      "text/plain": [
       "    State          County  Food environment index  \\\n",
       "652    FL  Gadsden County                   5.706   \n",
       "653    FL  Gadsden County                   5.500   \n",
       "\n",
       "     Limited access to healthy foods  Median household income  \n",
       "652                            0.058                    35854  \n",
       "653                            0.058                    34348  "
      ]
     },
     "execution_count": 50,
     "metadata": {},
     "output_type": "execute_result"
    }
   ],
   "source": [
    "df[[\"State\", \"County\", \"Food environment index\", \"Limited access to healthy foods\", \"Median household income\"]][652:654]"
   ]
  },
  {
   "cell_type": "markdown",
   "id": "57c51803-5c70-49f1-80df-693bd3137267",
   "metadata": {},
   "source": [
    "Identify this table as \"df2\""
   ]
  },
  {
   "cell_type": "markdown",
   "id": "48fd2b18-d794-4bcf-9430-f371a72cedc8",
   "metadata": {},
   "source": [
    "**It should look like this:**"
   ]
  },
  {
   "cell_type": "code",
   "execution_count": 69,
   "id": "18491f50-9315-4916-b626-a2dfac8a871e",
   "metadata": {},
   "outputs": [],
   "source": [
    "df2=df[[\"State\", \"County\", \"Food environment index\", \"Limited access to healthy foods\", \"Median household income\"]][652:654]"
   ]
  },
  {
   "cell_type": "markdown",
   "id": "31951b1f-fb25-4d78-abb6-c97317a4b1ca",
   "metadata": {},
   "source": [
    "Now we will make a table for rows 660 through 665.\n",
    "\n",
    "This means your range will be [660:666] since row 666 will not be visible on your table."
   ]
  },
  {
   "cell_type": "markdown",
   "id": "dbd48485-0248-4b4d-b156-f212593a0a16",
   "metadata": {},
   "source": [
    "**Your code for this condensed table should look like this:**"
   ]
  },
  {
   "cell_type": "code",
   "execution_count": 52,
   "id": "3ff05fab-e36c-4b2f-9c8e-225132027441",
   "metadata": {},
   "outputs": [
    {
     "data": {
      "text/html": [
       "<div>\n",
       "<style scoped>\n",
       "    .dataframe tbody tr th:only-of-type {\n",
       "        vertical-align: middle;\n",
       "    }\n",
       "\n",
       "    .dataframe tbody tr th {\n",
       "        vertical-align: top;\n",
       "    }\n",
       "\n",
       "    .dataframe thead th {\n",
       "        text-align: right;\n",
       "    }\n",
       "</style>\n",
       "<table border=\"1\" class=\"dataframe\">\n",
       "  <thead>\n",
       "    <tr style=\"text-align: right;\">\n",
       "      <th></th>\n",
       "      <th>State</th>\n",
       "      <th>County</th>\n",
       "      <th>Food environment index</th>\n",
       "      <th>Limited access to healthy foods</th>\n",
       "      <th>Median household income</th>\n",
       "    </tr>\n",
       "  </thead>\n",
       "  <tbody>\n",
       "    <tr>\n",
       "      <th>660</th>\n",
       "      <td>FL</td>\n",
       "      <td>Hamilton County</td>\n",
       "      <td>5.896</td>\n",
       "      <td>0.103</td>\n",
       "      <td>32232</td>\n",
       "    </tr>\n",
       "    <tr>\n",
       "      <th>661</th>\n",
       "      <td>FL</td>\n",
       "      <td>Hamilton County</td>\n",
       "      <td>5.600</td>\n",
       "      <td>0.103</td>\n",
       "      <td>33836</td>\n",
       "    </tr>\n",
       "    <tr>\n",
       "      <th>662</th>\n",
       "      <td>FL</td>\n",
       "      <td>Hardee County</td>\n",
       "      <td>5.642</td>\n",
       "      <td>0.203</td>\n",
       "      <td>34012</td>\n",
       "    </tr>\n",
       "    <tr>\n",
       "      <th>663</th>\n",
       "      <td>FL</td>\n",
       "      <td>Hardee County</td>\n",
       "      <td>5.500</td>\n",
       "      <td>0.203</td>\n",
       "      <td>34884</td>\n",
       "    </tr>\n",
       "    <tr>\n",
       "      <th>664</th>\n",
       "      <td>FL</td>\n",
       "      <td>Hendry County</td>\n",
       "      <td>5.660</td>\n",
       "      <td>0.143</td>\n",
       "      <td>36515</td>\n",
       "    </tr>\n",
       "    <tr>\n",
       "      <th>665</th>\n",
       "      <td>FL</td>\n",
       "      <td>Hendry County</td>\n",
       "      <td>5.600</td>\n",
       "      <td>0.143</td>\n",
       "      <td>37085</td>\n",
       "    </tr>\n",
       "  </tbody>\n",
       "</table>\n",
       "</div>"
      ],
      "text/plain": [
       "    State           County  Food environment index  \\\n",
       "660    FL  Hamilton County                   5.896   \n",
       "661    FL  Hamilton County                   5.600   \n",
       "662    FL    Hardee County                   5.642   \n",
       "663    FL    Hardee County                   5.500   \n",
       "664    FL    Hendry County                   5.660   \n",
       "665    FL    Hendry County                   5.600   \n",
       "\n",
       "     Limited access to healthy foods  Median household income  \n",
       "660                            0.103                    32232  \n",
       "661                            0.103                    33836  \n",
       "662                            0.203                    34012  \n",
       "663                            0.203                    34884  \n",
       "664                            0.143                    36515  \n",
       "665                            0.143                    37085  "
      ]
     },
     "execution_count": 52,
     "metadata": {},
     "output_type": "execute_result"
    }
   ],
   "source": [
    "df[[\"State\", \"County\", \"Food environment index\", \"Limited access to healthy foods\", \"Median household income\"]][660:666]"
   ]
  },
  {
   "cell_type": "markdown",
   "id": "d4b07142-53ad-4754-9e11-0048156b6308",
   "metadata": {},
   "source": [
    "Identify this table as \"df3\""
   ]
  },
  {
   "cell_type": "markdown",
   "id": "80debcb1-2afb-4a54-b3d4-ce3b4f0ccaba",
   "metadata": {},
   "source": [
    "**It should look like this:**"
   ]
  },
  {
   "cell_type": "code",
   "execution_count": 55,
   "id": "4697c73c-6871-4a07-8d3f-edc750b77cfe",
   "metadata": {},
   "outputs": [],
   "source": [
    "df3=df[[\"State\", \"County\", \"Food environment index\", \"Limited access to healthy foods\", \"Median household income\"]][660:666]"
   ]
  },
  {
   "cell_type": "markdown",
   "id": "6978c54d-3e2c-4c2a-a9cb-0a6ecfe16b40",
   "metadata": {},
   "source": [
    "Now we will make a table for row 687.\n",
    "\n",
    "This means your range will be [687:688] since row 688 will not be visible on your table."
   ]
  },
  {
   "cell_type": "markdown",
   "id": "31ff909f-4c81-4288-90c8-2d3ac0fedf62",
   "metadata": {},
   "source": [
    "**Your code for this condensed table should look like this:**"
   ]
  },
  {
   "cell_type": "code",
   "execution_count": 56,
   "id": "5c0ca071-022d-4586-8668-c0cacd81ce93",
   "metadata": {},
   "outputs": [
    {
     "data": {
      "text/html": [
       "<div>\n",
       "<style scoped>\n",
       "    .dataframe tbody tr th:only-of-type {\n",
       "        vertical-align: middle;\n",
       "    }\n",
       "\n",
       "    .dataframe tbody tr th {\n",
       "        vertical-align: top;\n",
       "    }\n",
       "\n",
       "    .dataframe thead th {\n",
       "        text-align: right;\n",
       "    }\n",
       "</style>\n",
       "<table border=\"1\" class=\"dataframe\">\n",
       "  <thead>\n",
       "    <tr style=\"text-align: right;\">\n",
       "      <th></th>\n",
       "      <th>State</th>\n",
       "      <th>County</th>\n",
       "      <th>Food environment index</th>\n",
       "      <th>Limited access to healthy foods</th>\n",
       "      <th>Median household income</th>\n",
       "    </tr>\n",
       "  </thead>\n",
       "  <tbody>\n",
       "    <tr>\n",
       "      <th>687</th>\n",
       "      <td>FL</td>\n",
       "      <td>Leon County</td>\n",
       "      <td>5.8</td>\n",
       "      <td>0.083</td>\n",
       "      <td>46975</td>\n",
       "    </tr>\n",
       "  </tbody>\n",
       "</table>\n",
       "</div>"
      ],
      "text/plain": [
       "    State       County  Food environment index  \\\n",
       "687    FL  Leon County                     5.8   \n",
       "\n",
       "     Limited access to healthy foods  Median household income  \n",
       "687                            0.083                    46975  "
      ]
     },
     "execution_count": 56,
     "metadata": {},
     "output_type": "execute_result"
    }
   ],
   "source": [
    "df[[\"State\", \"County\", \"Food environment index\", \"Limited access to healthy foods\", \"Median household income\"]][687:688]"
   ]
  },
  {
   "cell_type": "markdown",
   "id": "6e2f4e72-597b-4237-aff3-7df39efe4bbd",
   "metadata": {},
   "source": [
    "Identify this table as \"df4\""
   ]
  },
  {
   "cell_type": "markdown",
   "id": "1ad052c0-75f2-49b1-99f5-f94be1f911d7",
   "metadata": {},
   "source": [
    "**It should look like this:**"
   ]
  },
  {
   "cell_type": "code",
   "execution_count": 58,
   "id": "76398aea-d1ef-4a30-af39-c778f55883f2",
   "metadata": {},
   "outputs": [],
   "source": [
    "df4=df[[\"State\", \"County\", \"Food environment index\", \"Limited access to healthy foods\", \"Median household income\"]][687:688]"
   ]
  },
  {
   "cell_type": "markdown",
   "id": "d4bf2670-6e3d-4ae3-83f3-92bf39db6fbd",
   "metadata": {},
   "source": [
    "Now we will make a table for row 693.\n",
    "\n",
    "This means your range will be [693:694] since row 694 will not be visible on your table."
   ]
  },
  {
   "cell_type": "markdown",
   "id": "c3054e57-d89e-49c1-9e72-04c9dfedc956",
   "metadata": {},
   "source": [
    "**Your code for this condensed table should look like this:**"
   ]
  },
  {
   "cell_type": "code",
   "execution_count": 60,
   "id": "e25c196f-e9f7-456b-81c0-ad9d0d8477b5",
   "metadata": {},
   "outputs": [
    {
     "data": {
      "text/html": [
       "<div>\n",
       "<style scoped>\n",
       "    .dataframe tbody tr th:only-of-type {\n",
       "        vertical-align: middle;\n",
       "    }\n",
       "\n",
       "    .dataframe tbody tr th {\n",
       "        vertical-align: top;\n",
       "    }\n",
       "\n",
       "    .dataframe thead th {\n",
       "        text-align: right;\n",
       "    }\n",
       "</style>\n",
       "<table border=\"1\" class=\"dataframe\">\n",
       "  <thead>\n",
       "    <tr style=\"text-align: right;\">\n",
       "      <th></th>\n",
       "      <th>State</th>\n",
       "      <th>County</th>\n",
       "      <th>Food environment index</th>\n",
       "      <th>Limited access to healthy foods</th>\n",
       "      <th>Median household income</th>\n",
       "    </tr>\n",
       "  </thead>\n",
       "  <tbody>\n",
       "    <tr>\n",
       "      <th>693</th>\n",
       "      <td>FL</td>\n",
       "      <td>Madison County</td>\n",
       "      <td>5.7</td>\n",
       "      <td>0.087</td>\n",
       "      <td>30391</td>\n",
       "    </tr>\n",
       "  </tbody>\n",
       "</table>\n",
       "</div>"
      ],
      "text/plain": [
       "    State          County  Food environment index  \\\n",
       "693    FL  Madison County                     5.7   \n",
       "\n",
       "     Limited access to healthy foods  Median household income  \n",
       "693                            0.087                    30391  "
      ]
     },
     "execution_count": 60,
     "metadata": {},
     "output_type": "execute_result"
    }
   ],
   "source": [
    "df[[\"State\", \"County\", \"Food environment index\", \"Limited access to healthy foods\", \"Median household income\"]][693:694]"
   ]
  },
  {
   "cell_type": "markdown",
   "id": "7fcb68c7-a15a-457d-8a00-05afc58483a2",
   "metadata": {},
   "source": [
    "Identify this table as \"df5\""
   ]
  },
  {
   "cell_type": "markdown",
   "id": "b1383ae7-2106-47fd-a833-639f5c93f3be",
   "metadata": {},
   "source": [
    "**It should look like this:**"
   ]
  },
  {
   "cell_type": "code",
   "execution_count": 61,
   "id": "6b12612e-e227-4eab-99f6-87788cfba6bc",
   "metadata": {},
   "outputs": [],
   "source": [
    "df5=df[[\"State\", \"County\", \"Food environment index\", \"Limited access to healthy foods\", \"Median household income\"]][693:694]"
   ]
  },
  {
   "cell_type": "markdown",
   "id": "863192c7-26a7-4b6f-8935-803828a93b77",
   "metadata": {},
   "source": [
    "Now we will make a table for rows 708 and 709.\n",
    "\n",
    "This means your range will be [708:710] since row 710 will not be visible on your table."
   ]
  },
  {
   "cell_type": "markdown",
   "id": "598b47c0-e0ec-40df-adb7-692cc6978f05",
   "metadata": {},
   "source": [
    "**Your code for this condensed table should look like this:**"
   ]
  },
  {
   "cell_type": "code",
   "execution_count": 62,
   "id": "a8265fcb-23b6-4638-92ab-ea0d8b91b00d",
   "metadata": {},
   "outputs": [
    {
     "data": {
      "text/html": [
       "<div>\n",
       "<style scoped>\n",
       "    .dataframe tbody tr th:only-of-type {\n",
       "        vertical-align: middle;\n",
       "    }\n",
       "\n",
       "    .dataframe tbody tr th {\n",
       "        vertical-align: top;\n",
       "    }\n",
       "\n",
       "    .dataframe thead th {\n",
       "        text-align: right;\n",
       "    }\n",
       "</style>\n",
       "<table border=\"1\" class=\"dataframe\">\n",
       "  <thead>\n",
       "    <tr style=\"text-align: right;\">\n",
       "      <th></th>\n",
       "      <th>State</th>\n",
       "      <th>County</th>\n",
       "      <th>Food environment index</th>\n",
       "      <th>Limited access to healthy foods</th>\n",
       "      <th>Median household income</th>\n",
       "    </tr>\n",
       "  </thead>\n",
       "  <tbody>\n",
       "    <tr>\n",
       "      <th>708</th>\n",
       "      <td>FL</td>\n",
       "      <td>Okeechobee County</td>\n",
       "      <td>5.417</td>\n",
       "      <td>0.215</td>\n",
       "      <td>34742</td>\n",
       "    </tr>\n",
       "    <tr>\n",
       "      <th>709</th>\n",
       "      <td>FL</td>\n",
       "      <td>Okeechobee County</td>\n",
       "      <td>5.100</td>\n",
       "      <td>0.215</td>\n",
       "      <td>35954</td>\n",
       "    </tr>\n",
       "  </tbody>\n",
       "</table>\n",
       "</div>"
      ],
      "text/plain": [
       "    State             County  Food environment index  \\\n",
       "708    FL  Okeechobee County                   5.417   \n",
       "709    FL  Okeechobee County                   5.100   \n",
       "\n",
       "     Limited access to healthy foods  Median household income  \n",
       "708                            0.215                    34742  \n",
       "709                            0.215                    35954  "
      ]
     },
     "execution_count": 62,
     "metadata": {},
     "output_type": "execute_result"
    }
   ],
   "source": [
    "df[[\"State\", \"County\", \"Food environment index\", \"Limited access to healthy foods\", \"Median household income\"]][708:710]"
   ]
  },
  {
   "cell_type": "markdown",
   "id": "8d1fdf16-1f29-40c7-9a27-7810e7a48a63",
   "metadata": {},
   "source": [
    "Identify this table as \"df6\""
   ]
  },
  {
   "cell_type": "markdown",
   "id": "4ac383f9-0bf9-4e64-b3cb-42f30af1c3c4",
   "metadata": {},
   "source": [
    "**It should look like this:**"
   ]
  },
  {
   "cell_type": "code",
   "execution_count": 63,
   "id": "0885b566-ff56-4efe-a773-e4963bc89085",
   "metadata": {},
   "outputs": [],
   "source": [
    "df6=df[[\"State\", \"County\", \"Food environment index\", \"Limited access to healthy foods\", \"Median household income\"]][708:710]"
   ]
  },
  {
   "cell_type": "markdown",
   "id": "5391d5c9-f564-4ecf-9013-06d7676efe0e",
   "metadata": {},
   "source": [
    "Now we will make a table for row 723.\n",
    "\n",
    "This means your range will be [723:724] since row 724 will not be visible on your table."
   ]
  },
  {
   "cell_type": "markdown",
   "id": "e76bd1b7-abe1-4597-9ad6-ac0e96eb5aee",
   "metadata": {},
   "source": [
    "**Your code for this condensed table should look like this:**"
   ]
  },
  {
   "cell_type": "code",
   "execution_count": 64,
   "id": "7f594c9a-ec35-4673-a390-a5c13e7c854a",
   "metadata": {},
   "outputs": [
    {
     "data": {
      "text/html": [
       "<div>\n",
       "<style scoped>\n",
       "    .dataframe tbody tr th:only-of-type {\n",
       "        vertical-align: middle;\n",
       "    }\n",
       "\n",
       "    .dataframe tbody tr th {\n",
       "        vertical-align: top;\n",
       "    }\n",
       "\n",
       "    .dataframe thead th {\n",
       "        text-align: right;\n",
       "    }\n",
       "</style>\n",
       "<table border=\"1\" class=\"dataframe\">\n",
       "  <thead>\n",
       "    <tr style=\"text-align: right;\">\n",
       "      <th></th>\n",
       "      <th>State</th>\n",
       "      <th>County</th>\n",
       "      <th>Food environment index</th>\n",
       "      <th>Limited access to healthy foods</th>\n",
       "      <th>Median household income</th>\n",
       "    </tr>\n",
       "  </thead>\n",
       "  <tbody>\n",
       "    <tr>\n",
       "      <th>723</th>\n",
       "      <td>FL</td>\n",
       "      <td>Putnam County</td>\n",
       "      <td>5.6</td>\n",
       "      <td>0.126</td>\n",
       "      <td>32852</td>\n",
       "    </tr>\n",
       "  </tbody>\n",
       "</table>\n",
       "</div>"
      ],
      "text/plain": [
       "    State         County  Food environment index  \\\n",
       "723    FL  Putnam County                     5.6   \n",
       "\n",
       "     Limited access to healthy foods  Median household income  \n",
       "723                            0.126                    32852  "
      ]
     },
     "execution_count": 64,
     "metadata": {},
     "output_type": "execute_result"
    }
   ],
   "source": [
    "df[[\"State\", \"County\", \"Food environment index\", \"Limited access to healthy foods\", \"Median household income\"]][723:724]"
   ]
  },
  {
   "cell_type": "markdown",
   "id": "90308450-71f3-43fb-9c83-a22fa69e8f0e",
   "metadata": {},
   "source": [
    "Identify this table as \"df7\""
   ]
  },
  {
   "cell_type": "markdown",
   "id": "8ea7312d-a927-44b0-a243-c72b8f62268d",
   "metadata": {},
   "source": [
    "**It should look like this:**"
   ]
  },
  {
   "cell_type": "code",
   "execution_count": 65,
   "id": "cb84c624-fee6-40ca-808c-7f6c20659f2c",
   "metadata": {},
   "outputs": [],
   "source": [
    "df7=df[[\"State\", \"County\", \"Food environment index\", \"Limited access to healthy foods\", \"Median household income\"]][723:724]"
   ]
  },
  {
   "cell_type": "markdown",
   "id": "bb732dad-f81c-4dd4-b70d-adea4c2ef472",
   "metadata": {},
   "source": [
    "Now we will make a table for rows 748 and 749.\n",
    "\n",
    "This means your range will be [748:750] since row 750 will not be visible on your table.\n"
   ]
  },
  {
   "cell_type": "markdown",
   "id": "61978156-df2e-4a11-a41c-3010b6d1867a",
   "metadata": {},
   "source": [
    "**Your code for this condensed table should look like this:**\n"
   ]
  },
  {
   "cell_type": "code",
   "execution_count": 66,
   "id": "81ac5605-6fab-4d4b-9384-42cfe1fe1479",
   "metadata": {},
   "outputs": [
    {
     "data": {
      "text/html": [
       "<div>\n",
       "<style scoped>\n",
       "    .dataframe tbody tr th:only-of-type {\n",
       "        vertical-align: middle;\n",
       "    }\n",
       "\n",
       "    .dataframe tbody tr th {\n",
       "        vertical-align: top;\n",
       "    }\n",
       "\n",
       "    .dataframe thead th {\n",
       "        text-align: right;\n",
       "    }\n",
       "</style>\n",
       "<table border=\"1\" class=\"dataframe\">\n",
       "  <thead>\n",
       "    <tr style=\"text-align: right;\">\n",
       "      <th></th>\n",
       "      <th>State</th>\n",
       "      <th>County</th>\n",
       "      <th>Food environment index</th>\n",
       "      <th>Limited access to healthy foods</th>\n",
       "      <th>Median household income</th>\n",
       "    </tr>\n",
       "  </thead>\n",
       "  <tbody>\n",
       "    <tr>\n",
       "      <th>748</th>\n",
       "      <td>FL</td>\n",
       "      <td>Washington County</td>\n",
       "      <td>5.651</td>\n",
       "      <td>0.194</td>\n",
       "      <td>36560</td>\n",
       "    </tr>\n",
       "    <tr>\n",
       "      <th>749</th>\n",
       "      <td>FL</td>\n",
       "      <td>Washington County</td>\n",
       "      <td>5.300</td>\n",
       "      <td>0.194</td>\n",
       "      <td>35671</td>\n",
       "    </tr>\n",
       "  </tbody>\n",
       "</table>\n",
       "</div>"
      ],
      "text/plain": [
       "    State             County  Food environment index  \\\n",
       "748    FL  Washington County                   5.651   \n",
       "749    FL  Washington County                   5.300   \n",
       "\n",
       "     Limited access to healthy foods  Median household income  \n",
       "748                            0.194                    36560  \n",
       "749                            0.194                    35671  "
      ]
     },
     "execution_count": 66,
     "metadata": {},
     "output_type": "execute_result"
    }
   ],
   "source": [
    "df[[\"State\", \"County\", \"Food environment index\", \"Limited access to healthy foods\", \"Median household income\"]][748:750]"
   ]
  },
  {
   "cell_type": "markdown",
   "id": "a518453d-4a9b-430e-98ae-868f302b6a8d",
   "metadata": {},
   "source": [
    "Identify this table as \"df8\""
   ]
  },
  {
   "cell_type": "markdown",
   "id": "e2e1422e-5bdb-42e5-b0f9-9d33bb7380b0",
   "metadata": {},
   "source": [
    "**It should look like this:**"
   ]
  },
  {
   "cell_type": "code",
   "execution_count": 67,
   "id": "89167815-57ed-4240-8040-58c778343781",
   "metadata": {},
   "outputs": [],
   "source": [
    "df8=df[[\"State\", \"County\", \"Food environment index\", \"Limited access to healthy foods\", \"Median household income\"]][748:750]"
   ]
  },
  {
   "cell_type": "markdown",
   "id": "20b4cc4f-773c-45a2-bcbd-ffb3db5b7de2",
   "metadata": {},
   "source": [
    "Now that we have created nine separate tables, we need to glue them together through a process called concatenating.  "
   ]
  },
  {
   "cell_type": "markdown",
   "id": "d148c0c2-0aef-46cc-8dc7-458990d956bc",
   "metadata": {},
   "source": [
    "# **Concatenating**"
   ]
  },
  {
   "cell_type": "markdown",
   "id": "e23510d8-e9e3-47c2-9838-a698fdd669b1",
   "metadata": {},
   "source": [
    "Concatenating data is most useful when we have to datasets that are basically identical in shape, and we simply need to 'glue' them together. \n",
    "\n",
    "It seems clear that these dataframea would be best combined by stacking them on top of eachother, or appending one to the other as additional rows or observations. "
   ]
  },
  {
   "cell_type": "markdown",
   "id": "b0235b88-0cdf-492f-bcfd-54142c56d9cf",
   "metadata": {},
   "source": [
    "**Panda's pd.concat lets us concatenate a list of dataframes into a single dataframe.**"
   ]
  },
  {
   "cell_type": "markdown",
   "id": "4cfe9660-c58b-4114-a087-1a053c0acc65",
   "metadata": {},
   "source": [
    "We can do this by coding:\n",
    "    pd.concat([df0,df1,df2,df3,df4,df5,df6,df7,df8],axis=0,ignore_index=True,sort=False)\n"
   ]
  },
  {
   "cell_type": "markdown",
   "id": "4cc56261-1dad-48f7-8a66-83549ffef39a",
   "metadata": {},
   "source": [
    "**Notes:**"
   ]
  },
  {
   "cell_type": "markdown",
   "id": "a3e1172e-3a28-446b-9cef-0e1e56f8bf70",
   "metadata": {},
   "source": [
    "-axis=0 indicates that we want to add the dataframes together row-wise. What happens if we change to axis=1? \n",
    "\n",
    "-Pandas thinks about dimensions as rows and columns, in that order. axis=0 refers to rows, whereas axis=1 refers to columns. \n",
    "\n",
    "-ignore_index=True, resets the dataframe index to start at 0 and run to 3. Otherwise our row index would be 0 1 0 1, from the indices of the original two dataframes. \n",
    "\n",
    "-sort=False addresses a behavior for sorting in my version of python that causes an error when non-concatenation axis is not aligned. The value False tells it to ignore this sorting behavior \n"
   ]
  },
  {
   "cell_type": "code",
   "execution_count": 70,
   "id": "c53fbc3a-fba9-4015-a493-0b9387e6871b",
   "metadata": {},
   "outputs": [
    {
     "data": {
      "text/html": [
       "<div>\n",
       "<style scoped>\n",
       "    .dataframe tbody tr th:only-of-type {\n",
       "        vertical-align: middle;\n",
       "    }\n",
       "\n",
       "    .dataframe tbody tr th {\n",
       "        vertical-align: top;\n",
       "    }\n",
       "\n",
       "    .dataframe thead th {\n",
       "        text-align: right;\n",
       "    }\n",
       "</style>\n",
       "<table border=\"1\" class=\"dataframe\">\n",
       "  <thead>\n",
       "    <tr style=\"text-align: right;\">\n",
       "      <th></th>\n",
       "      <th>State</th>\n",
       "      <th>County</th>\n",
       "      <th>Food environment index</th>\n",
       "      <th>Limited access to healthy foods</th>\n",
       "      <th>Median household income</th>\n",
       "    </tr>\n",
       "  </thead>\n",
       "  <tbody>\n",
       "    <tr>\n",
       "      <th>0</th>\n",
       "      <td>FL</td>\n",
       "      <td>Calhoun County</td>\n",
       "      <td>5.900</td>\n",
       "      <td>0.132</td>\n",
       "      <td>33977</td>\n",
       "    </tr>\n",
       "    <tr>\n",
       "      <th>1</th>\n",
       "      <td>FL</td>\n",
       "      <td>Escambia County</td>\n",
       "      <td>5.800</td>\n",
       "      <td>0.130</td>\n",
       "      <td>42742</td>\n",
       "    </tr>\n",
       "    <tr>\n",
       "      <th>2</th>\n",
       "      <td>FL</td>\n",
       "      <td>Gadsden County</td>\n",
       "      <td>5.706</td>\n",
       "      <td>0.058</td>\n",
       "      <td>35854</td>\n",
       "    </tr>\n",
       "    <tr>\n",
       "      <th>3</th>\n",
       "      <td>FL</td>\n",
       "      <td>Gadsden County</td>\n",
       "      <td>5.500</td>\n",
       "      <td>0.058</td>\n",
       "      <td>34348</td>\n",
       "    </tr>\n",
       "    <tr>\n",
       "      <th>4</th>\n",
       "      <td>FL</td>\n",
       "      <td>Hamilton County</td>\n",
       "      <td>5.896</td>\n",
       "      <td>0.103</td>\n",
       "      <td>32232</td>\n",
       "    </tr>\n",
       "    <tr>\n",
       "      <th>5</th>\n",
       "      <td>FL</td>\n",
       "      <td>Hamilton County</td>\n",
       "      <td>5.600</td>\n",
       "      <td>0.103</td>\n",
       "      <td>33836</td>\n",
       "    </tr>\n",
       "    <tr>\n",
       "      <th>6</th>\n",
       "      <td>FL</td>\n",
       "      <td>Hardee County</td>\n",
       "      <td>5.642</td>\n",
       "      <td>0.203</td>\n",
       "      <td>34012</td>\n",
       "    </tr>\n",
       "    <tr>\n",
       "      <th>7</th>\n",
       "      <td>FL</td>\n",
       "      <td>Hardee County</td>\n",
       "      <td>5.500</td>\n",
       "      <td>0.203</td>\n",
       "      <td>34884</td>\n",
       "    </tr>\n",
       "    <tr>\n",
       "      <th>8</th>\n",
       "      <td>FL</td>\n",
       "      <td>Hendry County</td>\n",
       "      <td>5.660</td>\n",
       "      <td>0.143</td>\n",
       "      <td>36515</td>\n",
       "    </tr>\n",
       "    <tr>\n",
       "      <th>9</th>\n",
       "      <td>FL</td>\n",
       "      <td>Hendry County</td>\n",
       "      <td>5.600</td>\n",
       "      <td>0.143</td>\n",
       "      <td>37085</td>\n",
       "    </tr>\n",
       "    <tr>\n",
       "      <th>10</th>\n",
       "      <td>FL</td>\n",
       "      <td>Leon County</td>\n",
       "      <td>5.800</td>\n",
       "      <td>0.083</td>\n",
       "      <td>46975</td>\n",
       "    </tr>\n",
       "    <tr>\n",
       "      <th>11</th>\n",
       "      <td>FL</td>\n",
       "      <td>Madison County</td>\n",
       "      <td>5.700</td>\n",
       "      <td>0.087</td>\n",
       "      <td>30391</td>\n",
       "    </tr>\n",
       "    <tr>\n",
       "      <th>12</th>\n",
       "      <td>FL</td>\n",
       "      <td>Okeechobee County</td>\n",
       "      <td>5.417</td>\n",
       "      <td>0.215</td>\n",
       "      <td>34742</td>\n",
       "    </tr>\n",
       "    <tr>\n",
       "      <th>13</th>\n",
       "      <td>FL</td>\n",
       "      <td>Okeechobee County</td>\n",
       "      <td>5.100</td>\n",
       "      <td>0.215</td>\n",
       "      <td>35954</td>\n",
       "    </tr>\n",
       "    <tr>\n",
       "      <th>14</th>\n",
       "      <td>FL</td>\n",
       "      <td>Putnam County</td>\n",
       "      <td>5.600</td>\n",
       "      <td>0.126</td>\n",
       "      <td>32852</td>\n",
       "    </tr>\n",
       "    <tr>\n",
       "      <th>15</th>\n",
       "      <td>FL</td>\n",
       "      <td>Washington County</td>\n",
       "      <td>5.651</td>\n",
       "      <td>0.194</td>\n",
       "      <td>36560</td>\n",
       "    </tr>\n",
       "    <tr>\n",
       "      <th>16</th>\n",
       "      <td>FL</td>\n",
       "      <td>Washington County</td>\n",
       "      <td>5.300</td>\n",
       "      <td>0.194</td>\n",
       "      <td>35671</td>\n",
       "    </tr>\n",
       "  </tbody>\n",
       "</table>\n",
       "</div>"
      ],
      "text/plain": [
       "   State             County  Food environment index  \\\n",
       "0     FL     Calhoun County                   5.900   \n",
       "1     FL    Escambia County                   5.800   \n",
       "2     FL     Gadsden County                   5.706   \n",
       "3     FL     Gadsden County                   5.500   \n",
       "4     FL    Hamilton County                   5.896   \n",
       "5     FL    Hamilton County                   5.600   \n",
       "6     FL      Hardee County                   5.642   \n",
       "7     FL      Hardee County                   5.500   \n",
       "8     FL      Hendry County                   5.660   \n",
       "9     FL      Hendry County                   5.600   \n",
       "10    FL        Leon County                   5.800   \n",
       "11    FL     Madison County                   5.700   \n",
       "12    FL  Okeechobee County                   5.417   \n",
       "13    FL  Okeechobee County                   5.100   \n",
       "14    FL      Putnam County                   5.600   \n",
       "15    FL  Washington County                   5.651   \n",
       "16    FL  Washington County                   5.300   \n",
       "\n",
       "    Limited access to healthy foods  Median household income  \n",
       "0                             0.132                    33977  \n",
       "1                             0.130                    42742  \n",
       "2                             0.058                    35854  \n",
       "3                             0.058                    34348  \n",
       "4                             0.103                    32232  \n",
       "5                             0.103                    33836  \n",
       "6                             0.203                    34012  \n",
       "7                             0.203                    34884  \n",
       "8                             0.143                    36515  \n",
       "9                             0.143                    37085  \n",
       "10                            0.083                    46975  \n",
       "11                            0.087                    30391  \n",
       "12                            0.215                    34742  \n",
       "13                            0.215                    35954  \n",
       "14                            0.126                    32852  \n",
       "15                            0.194                    36560  \n",
       "16                            0.194                    35671  "
      ]
     },
     "execution_count": 70,
     "metadata": {},
     "output_type": "execute_result"
    }
   ],
   "source": [
    "pd.concat([df0,df1,df2,df3,df4,df5,df6,df7,df8],axis=0,ignore_index=True,sort=False)"
   ]
  },
  {
   "cell_type": "markdown",
   "id": "b1d9ea80-76b7-4c1c-9eb1-554eb7e83ce7",
   "metadata": {},
   "source": [
    "Now you have the access to healthy foods and median income of Florida counties that have a food environment index equal to or less than 6."
   ]
  },
  {
   "cell_type": "markdown",
   "id": "329d3c81-737d-4c4b-80d2-142db26f32f4",
   "metadata": {},
   "source": [
    "Through the data filtering process, you can see if the factors \"limited access to healthy foods\" and \"median household income\" are contributors to poor food environment indexes by comparing their numeric data."
   ]
  },
  {
   "cell_type": "markdown",
   "id": "59f8b644-5576-4ed8-8864-e6c064caac50",
   "metadata": {},
   "source": [
    "**Now it's time to  name your table to make it ready for export.**"
   ]
  },
  {
   "cell_type": "markdown",
   "id": "c2a6f66f-3ae7-4798-99ef-7a1b003d7c1e",
   "metadata": {},
   "source": [
    "# **Exporting**"
   ]
  },
  {
   "cell_type": "markdown",
   "id": "9adcdfd5-a99e-42e1-889a-be1a12cc91f9",
   "metadata": {},
   "source": [
    "In order to export your table, you need to name it.\n",
    "\n",
    "Name your table \"Concat\"\n",
    "\n",
    "You will set \"Concat\" equal to your code of your concatenated table you made above. \n"
   ]
  },
  {
   "cell_type": "markdown",
   "id": "61cb3ea9-4135-4c80-9bfe-889a3b5b9feb",
   "metadata": {},
   "source": [
    "**It should look like this:**"
   ]
  },
  {
   "cell_type": "code",
   "execution_count": 87,
   "id": "764b2a82-7e65-4536-9547-96474b33b770",
   "metadata": {},
   "outputs": [],
   "source": [
    "Concat=pd.concat([df0,df1,df2,df3,df4,df5,df6,df7,df8],axis=0,ignore_index=True,sort=False)"
   ]
  },
  {
   "cell_type": "markdown",
   "id": "c1fee216-40c4-4af2-b2bc-f536be5581d0",
   "metadata": {},
   "source": [
    "### **Exporting to .csv file**"
   ]
  },
  {
   "cell_type": "markdown",
   "id": "d48bd093-c6d5-4548-a7a4-0de071810b89",
   "metadata": {},
   "source": [
    "Now that you've finished manipulating your dataset for further analysis, you can export it as new .csv files, giving you a readymade and openly accessible output to share with the public on our GitHub repositories."
   ]
  },
  {
   "cell_type": "markdown",
   "id": "2d08316c-c3eb-43fc-ab6c-ce1c77836f3b",
   "metadata": {},
   "source": [
    "To do this you can use the method `.to_csv()` - adding the filename and extension within the parentheses at the end."
   ]
  },
  {
   "cell_type": "markdown",
   "id": "85f12161-2b9a-4c1f-9f56-5eef8e97dbb3",
   "metadata": {},
   "source": [
    "**It should look like this:**"
   ]
  },
  {
   "cell_type": "code",
   "execution_count": 86,
   "id": "2b100fff-7d8e-40c8-9e4f-772bbc308f72",
   "metadata": {},
   "outputs": [],
   "source": [
    "Concat.to_csv(\"MergedData.csv\", index=False)"
   ]
  },
  {
   "cell_type": "markdown",
   "id": "f8e57881-74f1-478f-9260-83062a672aae",
   "metadata": {},
   "source": [
    "The new merged data will appear in your folder and is now ready to be used!"
   ]
  }
 ],
 "metadata": {
  "kernelspec": {
   "display_name": "Python 3 (ipykernel)",
   "language": "python",
   "name": "python3"
  },
  "language_info": {
   "codemirror_mode": {
    "name": "ipython",
    "version": 3
   },
   "file_extension": ".py",
   "mimetype": "text/x-python",
   "name": "python",
   "nbconvert_exporter": "python",
   "pygments_lexer": "ipython3",
   "version": "3.9.13"
  }
 },
 "nbformat": 4,
 "nbformat_minor": 5
}
